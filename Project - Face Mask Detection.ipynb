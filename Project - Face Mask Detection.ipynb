{
 "cells": [
  {
   "cell_type": "markdown",
   "id": "7e50096a",
   "metadata": {},
   "source": [
    "# FACE MASK DETECTION"
   ]
  },
  {
   "cell_type": "markdown",
   "id": "a7351042",
   "metadata": {},
   "source": [
    "### Imports"
   ]
  },
  {
   "cell_type": "code",
   "execution_count": 1,
   "id": "39b8af41",
   "metadata": {},
   "outputs": [],
   "source": [
    "import pandas as pd\n",
    "import numpy as np\n",
    "import matplotlib.pyplot as plt  \n",
    "%matplotlib inline\n",
    "import matplotlib as mpl\n",
    "import tensorflow as tf"
   ]
  },
  {
   "cell_type": "code",
   "execution_count": 2,
   "id": "9a538e8b",
   "metadata": {},
   "outputs": [],
   "source": [
    "from tensorflow.keras.preprocessing.image import ImageDataGenerator\n",
    "from tensorflow.keras.models import Sequential\n",
    "from tensorflow.keras.layers import Conv2D, Input, Activation, MaxPooling2D, Flatten, Dense,Dropout\n",
    "from tensorflow.keras.models import Model, load_model\n",
    "from tensorflow.keras.callbacks import ModelCheckpoint\n",
    "from tensorflow.keras.optimizers import RMSprop"
   ]
  },
  {
   "cell_type": "markdown",
   "id": "b6263045",
   "metadata": {},
   "source": [
    "### Dataset"
   ]
  },
  {
   "cell_type": "code",
   "execution_count": 3,
   "id": "1cba07e3",
   "metadata": {},
   "outputs": [],
   "source": [
    "train_dir = r'C:\\Users\\Sandhya H\\Downloads\\archive\\New Masks Dataset\\Train'\n",
    "validation_dir = r'C:\\Users\\Sandhya H\\Downloads\\archive\\New Masks Dataset\\Validation'\n",
    "test_dir = r'C:\\Users\\Sandhya H\\Downloads\\archive\\New Masks Dataset\\Test'"
   ]
  },
  {
   "cell_type": "markdown",
   "id": "d88021b9",
   "metadata": {},
   "source": [
    "### Data Preprocessing"
   ]
  },
  {
   "cell_type": "code",
   "execution_count": 4,
   "id": "6fbcf948",
   "metadata": {},
   "outputs": [
    {
     "name": "stdout",
     "output_type": "stream",
     "text": [
      "Found 600 images belonging to 2 classes.\n",
      "Found 306 images belonging to 2 classes.\n"
     ]
    }
   ],
   "source": [
    "train_datagen = ImageDataGenerator(rescale = 1./255, rotation_range = 40, width_shift_range = 0.2, height_shift_range = 0.2, \n",
    "                                   shear_range = 0.2, zoom_range = 0.2, horizontal_flip = True, fill_mode = 'nearest')\n",
    "test_datagen = ImageDataGenerator(rescale = 1./255)\n",
    "\n",
    "train_generator = train_datagen.flow_from_directory(train_dir, target_size = (150, 150), batch_size = 10, class_mode = 'binary')\n",
    "validation_generator = test_datagen.flow_from_directory(validation_dir, target_size = (150, 150), batch_size = 10, class_mode = 'binary')"
   ]
  },
  {
   "cell_type": "markdown",
   "id": "bbe51e76",
   "metadata": {},
   "source": [
    "### Model"
   ]
  },
  {
   "cell_type": "code",
   "execution_count": 5,
   "id": "c2f1f06c",
   "metadata": {},
   "outputs": [],
   "source": [
    "model = Sequential([Conv2D(100, (3,3), activation = 'relu', input_shape = (150, 150, 3)), \n",
    "                    MaxPooling2D(2,2),\n",
    "                    Conv2D(100, (3,3), activation = 'relu'), \n",
    "                    MaxPooling2D(2,2), \n",
    "                    Flatten(), \n",
    "                    Dropout(0.5), \n",
    "                    Dense(50, activation = 'relu'),\n",
    "                    Dense(2, activation = 'softmax')])"
   ]
  },
  {
   "cell_type": "code",
   "execution_count": 6,
   "id": "80bf22dc",
   "metadata": {},
   "outputs": [
    {
     "name": "stdout",
     "output_type": "stream",
     "text": [
      "Model: \"sequential\"\n",
      "_________________________________________________________________\n",
      "Layer (type)                 Output Shape              Param #   \n",
      "=================================================================\n",
      "conv2d (Conv2D)              (None, 148, 148, 100)     2800      \n",
      "_________________________________________________________________\n",
      "max_pooling2d (MaxPooling2D) (None, 74, 74, 100)       0         \n",
      "_________________________________________________________________\n",
      "conv2d_1 (Conv2D)            (None, 72, 72, 100)       90100     \n",
      "_________________________________________________________________\n",
      "max_pooling2d_1 (MaxPooling2 (None, 36, 36, 100)       0         \n",
      "_________________________________________________________________\n",
      "flatten (Flatten)            (None, 129600)            0         \n",
      "_________________________________________________________________\n",
      "dropout (Dropout)            (None, 129600)            0         \n",
      "_________________________________________________________________\n",
      "dense (Dense)                (None, 50)                6480050   \n",
      "_________________________________________________________________\n",
      "dense_1 (Dense)              (None, 2)                 102       \n",
      "=================================================================\n",
      "Total params: 6,573,052\n",
      "Trainable params: 6,573,052\n",
      "Non-trainable params: 0\n",
      "_________________________________________________________________\n"
     ]
    }
   ],
   "source": [
    "model.summary()"
   ]
  },
  {
   "cell_type": "code",
   "execution_count": 7,
   "id": "894f6a07",
   "metadata": {},
   "outputs": [],
   "source": [
    "model.compile(loss = 'sparse_categorical_crossentropy', optimizer = RMSprop(learning_rate = 2e-5), metrics = ['acc'])"
   ]
  },
  {
   "cell_type": "code",
   "execution_count": 8,
   "id": "b1a2d9a4",
   "metadata": {},
   "outputs": [],
   "source": [
    "checkpoint = ModelCheckpoint('best_model.h5', monitor = 'val_loss', verbose = 0, save_best_only = True, mode = 'auto')"
   ]
  },
  {
   "cell_type": "code",
   "execution_count": 9,
   "id": "22138be9",
   "metadata": {},
   "outputs": [
    {
     "name": "stdout",
     "output_type": "stream",
     "text": [
      "Epoch 1/50\n",
      "60/60 [==============================] - 53s 870ms/step - loss: 0.6797 - acc: 0.5450 - val_loss: 0.6318 - val_acc: 0.6732\n",
      "Epoch 2/50\n",
      "60/60 [==============================] - 44s 729ms/step - loss: 0.5791 - acc: 0.7067 - val_loss: 0.5515 - val_acc: 0.7026\n",
      "Epoch 3/50\n",
      "60/60 [==============================] - 42s 707ms/step - loss: 0.4902 - acc: 0.7933 - val_loss: 0.4780 - val_acc: 0.7941\n",
      "Epoch 4/50\n",
      "60/60 [==============================] - 42s 701ms/step - loss: 0.4661 - acc: 0.8017 - val_loss: 0.4290 - val_acc: 0.8105\n",
      "Epoch 5/50\n",
      "60/60 [==============================] - 42s 704ms/step - loss: 0.4370 - acc: 0.8033 - val_loss: 0.4068 - val_acc: 0.8431\n",
      "Epoch 6/50\n",
      "60/60 [==============================] - 41s 681ms/step - loss: 0.4106 - acc: 0.8150 - val_loss: 0.4417 - val_acc: 0.8105\n",
      "Epoch 7/50\n",
      "60/60 [==============================] - 41s 676ms/step - loss: 0.3747 - acc: 0.8383 - val_loss: 0.3399 - val_acc: 0.8595\n",
      "Epoch 8/50\n",
      "60/60 [==============================] - 42s 699ms/step - loss: 0.3591 - acc: 0.8567 - val_loss: 0.3173 - val_acc: 0.8725\n",
      "Epoch 9/50\n",
      "60/60 [==============================] - 38s 641ms/step - loss: 0.3483 - acc: 0.8650 - val_loss: 0.3093 - val_acc: 0.8693\n",
      "Epoch 10/50\n",
      "60/60 [==============================] - 41s 691ms/step - loss: 0.3425 - acc: 0.8700 - val_loss: 0.3252 - val_acc: 0.8595\n",
      "Epoch 11/50\n",
      "60/60 [==============================] - 42s 695ms/step - loss: 0.3308 - acc: 0.8600 - val_loss: 0.3209 - val_acc: 0.8660\n",
      "Epoch 12/50\n",
      "60/60 [==============================] - 43s 715ms/step - loss: 0.3488 - acc: 0.8517 - val_loss: 0.2970 - val_acc: 0.8922\n",
      "Epoch 13/50\n",
      "60/60 [==============================] - 41s 679ms/step - loss: 0.3504 - acc: 0.8533 - val_loss: 0.2763 - val_acc: 0.8856\n",
      "Epoch 14/50\n",
      "60/60 [==============================] - 41s 688ms/step - loss: 0.3114 - acc: 0.8850 - val_loss: 0.3836 - val_acc: 0.8497\n",
      "Epoch 15/50\n",
      "60/60 [==============================] - 40s 675ms/step - loss: 0.3116 - acc: 0.8650 - val_loss: 0.2626 - val_acc: 0.8922\n",
      "Epoch 16/50\n",
      "60/60 [==============================] - 40s 672ms/step - loss: 0.3228 - acc: 0.8583 - val_loss: 0.2661 - val_acc: 0.8856\n",
      "Epoch 17/50\n",
      "60/60 [==============================] - 39s 657ms/step - loss: 0.3185 - acc: 0.8700 - val_loss: 0.2572 - val_acc: 0.8889\n",
      "Epoch 18/50\n",
      "60/60 [==============================] - 39s 647ms/step - loss: 0.3166 - acc: 0.8717 - val_loss: 0.2655 - val_acc: 0.8954\n",
      "Epoch 19/50\n",
      "60/60 [==============================] - 41s 689ms/step - loss: 0.3019 - acc: 0.8850 - val_loss: 0.2538 - val_acc: 0.9052\n",
      "Epoch 20/50\n",
      "60/60 [==============================] - 40s 670ms/step - loss: 0.3022 - acc: 0.8783 - val_loss: 0.2382 - val_acc: 0.9052\n",
      "Epoch 21/50\n",
      "60/60 [==============================] - 40s 666ms/step - loss: 0.2838 - acc: 0.8867 - val_loss: 0.2470 - val_acc: 0.9118\n",
      "Epoch 22/50\n",
      "60/60 [==============================] - 41s 682ms/step - loss: 0.3152 - acc: 0.8667 - val_loss: 0.3748 - val_acc: 0.8529\n",
      "Epoch 23/50\n",
      "60/60 [==============================] - 43s 715ms/step - loss: 0.2936 - acc: 0.8883 - val_loss: 0.2425 - val_acc: 0.9052\n",
      "Epoch 24/50\n",
      "60/60 [==============================] - 38s 640ms/step - loss: 0.3192 - acc: 0.8583 - val_loss: 0.2402 - val_acc: 0.8987\n",
      "Epoch 25/50\n",
      "60/60 [==============================] - 38s 635ms/step - loss: 0.3234 - acc: 0.8683 - val_loss: 0.2605 - val_acc: 0.8987\n",
      "Epoch 26/50\n",
      "60/60 [==============================] - 38s 635ms/step - loss: 0.2861 - acc: 0.8883 - val_loss: 0.2743 - val_acc: 0.8954\n",
      "Epoch 27/50\n",
      "60/60 [==============================] - 39s 644ms/step - loss: 0.3036 - acc: 0.8950 - val_loss: 0.2610 - val_acc: 0.8987\n",
      "Epoch 28/50\n",
      "60/60 [==============================] - 38s 634ms/step - loss: 0.2955 - acc: 0.8800 - val_loss: 0.2366 - val_acc: 0.9118\n",
      "Epoch 29/50\n",
      "60/60 [==============================] - 38s 629ms/step - loss: 0.2948 - acc: 0.8933 - val_loss: 0.2239 - val_acc: 0.9150\n",
      "Epoch 30/50\n",
      "60/60 [==============================] - 39s 650ms/step - loss: 0.2898 - acc: 0.8767 - val_loss: 0.2346 - val_acc: 0.9118\n",
      "Epoch 31/50\n",
      "60/60 [==============================] - 39s 647ms/step - loss: 0.2853 - acc: 0.8850 - val_loss: 0.2361 - val_acc: 0.9052\n",
      "Epoch 32/50\n",
      "60/60 [==============================] - 38s 638ms/step - loss: 0.2858 - acc: 0.8900 - val_loss: 0.2622 - val_acc: 0.9052\n",
      "Epoch 33/50\n",
      "60/60 [==============================] - 38s 636ms/step - loss: 0.2831 - acc: 0.8700 - val_loss: 0.2328 - val_acc: 0.9052\n",
      "Epoch 34/50\n",
      "60/60 [==============================] - 38s 630ms/step - loss: 0.2838 - acc: 0.8883 - val_loss: 0.2321 - val_acc: 0.9020\n",
      "Epoch 35/50\n",
      "60/60 [==============================] - 39s 648ms/step - loss: 0.2829 - acc: 0.8917 - val_loss: 0.2250 - val_acc: 0.9118\n",
      "Epoch 36/50\n",
      "60/60 [==============================] - 39s 646ms/step - loss: 0.2860 - acc: 0.8767 - val_loss: 0.2296 - val_acc: 0.9052\n",
      "Epoch 37/50\n",
      "60/60 [==============================] - 38s 636ms/step - loss: 0.2810 - acc: 0.8783 - val_loss: 0.2635 - val_acc: 0.9020\n",
      "Epoch 38/50\n",
      "60/60 [==============================] - 38s 630ms/step - loss: 0.2654 - acc: 0.9033 - val_loss: 0.2622 - val_acc: 0.9052\n",
      "Epoch 39/50\n",
      "60/60 [==============================] - 38s 640ms/step - loss: 0.2513 - acc: 0.9150 - val_loss: 0.2261 - val_acc: 0.9118\n",
      "Epoch 40/50\n",
      "60/60 [==============================] - 38s 642ms/step - loss: 0.2758 - acc: 0.8850 - val_loss: 0.2724 - val_acc: 0.8954\n",
      "Epoch 41/50\n",
      "60/60 [==============================] - 38s 635ms/step - loss: 0.2530 - acc: 0.8983 - val_loss: 0.2402 - val_acc: 0.8987\n",
      "Epoch 42/50\n",
      "60/60 [==============================] - 38s 635ms/step - loss: 0.2702 - acc: 0.8833 - val_loss: 0.2545 - val_acc: 0.9020\n",
      "Epoch 43/50\n",
      "60/60 [==============================] - 38s 640ms/step - loss: 0.2792 - acc: 0.8883 - val_loss: 0.2543 - val_acc: 0.9020\n",
      "Epoch 44/50\n",
      "60/60 [==============================] - 38s 629ms/step - loss: 0.2718 - acc: 0.9000 - val_loss: 0.2350 - val_acc: 0.9118\n",
      "Epoch 45/50\n",
      "60/60 [==============================] - 40s 663ms/step - loss: 0.2527 - acc: 0.9067 - val_loss: 0.2340 - val_acc: 0.9020\n",
      "Epoch 46/50\n",
      "60/60 [==============================] - 38s 634ms/step - loss: 0.2724 - acc: 0.8850 - val_loss: 0.2484 - val_acc: 0.8987\n",
      "Epoch 47/50\n",
      "60/60 [==============================] - 39s 645ms/step - loss: 0.2544 - acc: 0.9150 - val_loss: 0.2412 - val_acc: 0.9085\n",
      "Epoch 48/50\n",
      "60/60 [==============================] - 38s 634ms/step - loss: 0.2731 - acc: 0.8900 - val_loss: 0.2393 - val_acc: 0.9085\n",
      "Epoch 49/50\n",
      "60/60 [==============================] - 38s 636ms/step - loss: 0.2552 - acc: 0.9000 - val_loss: 0.2286 - val_acc: 0.9020\n",
      "Epoch 50/50\n",
      "60/60 [==============================] - 39s 645ms/step - loss: 0.2412 - acc: 0.9000 - val_loss: 0.2370 - val_acc: 0.9052\n"
     ]
    }
   ],
   "source": [
    "history = model.fit(train_generator, epochs = 50, validation_data = validation_generator, \n",
    "                    callbacks = [checkpoint])"
   ]
  },
  {
   "cell_type": "code",
   "execution_count": 10,
   "id": "c6a49303",
   "metadata": {},
   "outputs": [
    {
     "data": {
      "image/png": "[encoded data removed]",
      "text/plain": [
       "<Figure size 720x432 with 1 Axes>"
      ]
     },
     "metadata": {
      "needs_background": "light"
     },
     "output_type": "display_data"
    }
   ],
   "source": [
    "pd.DataFrame(history.history).plot(figsize = (10, 6))\n",
    "plt.grid(True)\n",
    "plt.gca().set_ylim(0, 1)\n",
    "plt.show()"
   ]
  },
  {
   "cell_type": "code",
   "execution_count": 6,
   "id": "b2594f49",
   "metadata": {},
   "outputs": [],
   "source": [
    "tf.keras.backend.clear_session()"
   ]
  },
  {
   "cell_type": "code",
   "execution_count": 7,
   "id": "7dcdf69f",
   "metadata": {},
   "outputs": [],
   "source": [
    "model = tf.keras.models.load_model(\"best_model.h5\")"
   ]
  },
  {
   "cell_type": "markdown",
   "id": "d9283517",
   "metadata": {},
   "source": [
    "### Performance Evaluation"
   ]
  },
  {
   "cell_type": "code",
   "execution_count": 8,
   "id": "b2404715",
   "metadata": {},
   "outputs": [
    {
     "name": "stdout",
     "output_type": "stream",
     "text": [
      "Found 100 images belonging to 2 classes.\n"
     ]
    }
   ],
   "source": [
    "test_generator = test_datagen.flow_from_directory(test_dir, target_size = (150, 150), batch_size = 10, class_mode = 'binary')"
   ]
  },
  {
   "cell_type": "code",
   "execution_count": 9,
   "id": "4c5617bd",
   "metadata": {},
   "outputs": [
    {
     "name": "stdout",
     "output_type": "stream",
     "text": [
      "10/10 [==============================] - 5s 523ms/step - loss: 0.1932 - acc: 0.9200\n"
     ]
    },
    {
     "data": {
      "text/plain": [
       "[0.19316793978214264, 0.9200000166893005]"
      ]
     },
     "execution_count": 9,
     "metadata": {},
     "output_type": "execute_result"
    }
   ],
   "source": [
    "model.evaluate(test_generator)"
   ]
  },
  {
   "cell_type": "markdown",
   "id": "aed6b622",
   "metadata": {},
   "source": [
    "Here a 92 % accuracy on test dataset is obtained. "
   ]
  }
 ],
 "metadata": {
  "kernelspec": {
   "display_name": "Python 3",
   "language": "python",
   "name": "python3"
  },
  "language_info": {
   "codemirror_mode": {
    "name": "ipython",
    "version": 3
   },
   "file_extension": ".py",
   "mimetype": "text/x-python",
   "name": "python",
   "nbconvert_exporter": "python",
   "pygments_lexer": "ipython3",
   "version": "3.8.8"
  }
 },
 "nbformat": 4,
 "nbformat_minor": 5
}
